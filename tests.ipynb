{
 "cells": [
  {
   "cell_type": "code",
   "execution_count": 3,
   "metadata": {},
   "outputs": [],
   "source": [
    "import os\n",
    "import re\n",
    "import gensim.downloader as api\n",
    "import nltk\n",
    "import numpy as np\n",
    "import pandas as pd\n",
    "from tqdm import tqdm"
   ]
  },
  {
   "cell_type": "code",
   "execution_count": 5,
   "metadata": {},
   "outputs": [
    {
     "name": "stdout",
     "output_type": "stream",
     "text": [
      "Loading and preprocessing data...\n"
     ]
    },
    {
     "name": "stderr",
     "output_type": "stream",
     "text": [
      "Files processed: 100%|██████████| 16/16 [00:09<00:00,  1.64it/s]\n"
     ]
    }
   ],
   "source": [
    "def load_and_preprocess_data(folder_path):\n",
    "    data = []\n",
    "    print(\"Loading and preprocessing data...\")\n",
    "    for filename in tqdm(os.listdir(folder_path), desc=\"Files processed\"):\n",
    "        file_path = os.path.join(folder_path, filename)\n",
    "        df = pd.read_csv(file_path)\n",
    "        data.append(df)\n",
    "    return pd.concat(data, ignore_index=True)\n",
    "\n",
    "df = load_and_preprocess_data('challenge_data/train_tweets')"
   ]
  },
  {
   "cell_type": "code",
   "execution_count": 8,
   "metadata": {},
   "outputs": [],
   "source": [
    "result = (\n",
    "    df.groupby(['ID', 'MatchID', 'PeriodID', 'EventType'])\n",
    "    .size()\n",
    "    .reset_index(name='TweetCount')\n",
    ")\n",
    "\n",
    "result.to_csv('nb_tweets.csv')"
   ]
  },
  {
   "cell_type": "code",
   "execution_count": null,
   "metadata": {},
   "outputs": [],
   "source": []
  }
 ],
 "metadata": {
  "kernelspec": {
   "display_name": "inf554",
   "language": "python",
   "name": "python3"
  },
  "language_info": {
   "codemirror_mode": {
    "name": "ipython",
    "version": 3
   },
   "file_extension": ".py",
   "mimetype": "text/x-python",
   "name": "python",
   "nbconvert_exporter": "python",
   "pygments_lexer": "ipython3",
   "version": "3.11.9"
  }
 },
 "nbformat": 4,
 "nbformat_minor": 2
}
